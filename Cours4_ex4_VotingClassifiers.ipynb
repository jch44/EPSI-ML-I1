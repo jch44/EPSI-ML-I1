{
 "cells": [
  {
   "cell_type": "markdown",
   "metadata": {},
   "source": [
    "# Exemple de Classification par vote"
   ]
  },
  {
   "cell_type": "markdown",
   "metadata": {},
   "source": [
    "## Importation des librairies"
   ]
  },
  {
   "cell_type": "code",
   "execution_count": null,
   "metadata": {},
   "outputs": [],
   "source": [
    "# Graphes\n",
    "%matplotlib inline\n",
    "import matplotlib.pyplot as plt\n",
    "\n",
    "# Machine learning\n",
    "from sklearn.model_selection import train_test_split\n",
    "from sklearn.datasets import make_moons\n",
    "from sklearn.tree import DecisionTreeClassifier\n",
    "from sklearn.ensemble import VotingClassifier\n",
    "from sklearn.linear_model import LogisticRegression\n",
    "from sklearn.naive_bayes import GaussianNB\n",
    "from sklearn.metrics import accuracy_score\n",
    "\n",
    "#Eviter les warnings\n",
    "import warnings\n",
    "warnings.filterwarnings(\"ignore\", category=DeprecationWarning) "
   ]
  },
  {
   "cell_type": "markdown",
   "metadata": {},
   "source": [
    "# Génération et Affichage des données\n",
    "Séparation entre train et test"
   ]
  },
  {
   "cell_type": "code",
   "execution_count": null,
   "metadata": {},
   "outputs": [],
   "source": [
    "X, y = make_moons(n_samples=500, noise=0.3, random_state=42)\n",
    "X_train, X_test, y_train, y_test = train_test_split(X, y, random_state=42)\n",
    "plt.scatter(X[:,0],X[:,1], c = y,cmap='plasma');\n",
    "plt.title('make_moons noise=0.3')\n",
    "plt.show()"
   ]
  },
  {
   "cell_type": "code",
   "execution_count": null,
   "metadata": {},
   "outputs": [],
   "source": [
    "X_noisy, y_noisy = make_moons(n_samples=500, noise=5, random_state=42)\n",
    "plt.scatter(X_noisy[:,0],X_noisy[:,1], c = y_noisy,cmap='plasma');\n",
    "plt.title('make_moons noise=3')\n",
    "plt.show()\n",
    "X_noisy, y_noisy = make_moons(n_samples=500, random_state=42)\n",
    "plt.scatter(X_noisy[:,0],X_noisy[:,1], c = y_noisy,cmap='plasma');\n",
    "plt.title('make_moons no noise')\n",
    "plt.show()"
   ]
  },
  {
   "cell_type": "markdown",
   "metadata": {},
   "source": [
    "## Création de 3 modèles différents et d'un système de vote sur les même données"
   ]
  },
  {
   "cell_type": "code",
   "execution_count": null,
   "metadata": {},
   "outputs": [],
   "source": [
    "log_clf = LogisticRegression(random_state=42)\n",
    "tree_clf = DecisionTreeClassifier(max_depth=2)\n",
    "bayes_clf = GaussianNB()\n",
    "\n",
    "voting_clf = VotingClassifier(estimators=[('lr', log_clf),\n",
    "                                          ('tf', tree_clf), \n",
    "                                          ('by', bayes_clf)],\n",
    "                              voting='hard')"
   ]
  },
  {
   "cell_type": "markdown",
   "metadata": {},
   "source": [
    "## Mise en oeuvre des 3 modèles et du système de vote 'hard'"
   ]
  },
  {
   "cell_type": "code",
   "execution_count": null,
   "metadata": {},
   "outputs": [],
   "source": [
    "# import warnings\n",
    "# warnings.filterwarnings(\"ignore\",category=FutureWarning)\n",
    "\n",
    "dict_scores={}\n",
    "for clf in (log_clf, tree_clf, bayes_clf, voting_clf):\n",
    "    clf.fit(X_train, y_train)\n",
    "    y_pred = clf.predict(X_test)    \n",
    "    dict_scores[clf.__class__.__name__]=accuracy_score(y_test, y_pred)\n",
    "dict_scores"
   ]
  },
  {
   "cell_type": "markdown",
   "metadata": {},
   "source": [
    "## Mise en oeuvre du vote \"soft\""
   ]
  },
  {
   "cell_type": "code",
   "execution_count": null,
   "metadata": {},
   "outputs": [],
   "source": [
    "voting_soft_clf = VotingClassifier(estimators=[('lr', log_clf),\n",
    "                                          ('tr', tree_clf),\n",
    "                                          ('by', bayes_clf)],\n",
    "                              voting='soft')\n",
    "voting_soft_clf.fit(X_train, y_train)\n",
    "y_pred = voting_soft_clf.predict(X_test)\n",
    "dict_scores['VotingClassifier Soft']=accuracy_score(y_test, y_pred)\n",
    "dict_scores"
   ]
  }
 ],
 "metadata": {
  "kernelspec": {
   "display_name": "Python 3.9.6 64-bit",
   "language": "python",
   "name": "python3"
  },
  "language_info": {
   "codemirror_mode": {
    "name": "ipython",
    "version": 3
   },
   "file_extension": ".py",
   "mimetype": "text/x-python",
   "name": "python",
   "nbconvert_exporter": "python",
   "pygments_lexer": "ipython3",
   "version": "3.9.6"
  },
  "metadata": {
   "interpreter": {
    "hash": "8a7f431efea175097450e475ba2074c6e83edf516fa688f7dc4e8ab4342121c4"
   }
  },
  "vscode": {
   "interpreter": {
    "hash": "f7976576504ac6c456dadd405d7477574ca2a64265ee4724cfbc25daae5f6d94"
   }
  }
 },
 "nbformat": 4,
 "nbformat_minor": 4
}
